{
 "cells": [
  {
   "cell_type": "code",
   "execution_count": 1,
   "metadata": {},
   "outputs": [
    {
     "data": {
      "text/html": [
       "<div>\n",
       "<style scoped>\n",
       "    .dataframe tbody tr th:only-of-type {\n",
       "        vertical-align: middle;\n",
       "    }\n",
       "\n",
       "    .dataframe tbody tr th {\n",
       "        vertical-align: top;\n",
       "    }\n",
       "\n",
       "    .dataframe thead th {\n",
       "        text-align: right;\n",
       "    }\n",
       "</style>\n",
       "<table border=\"1\" class=\"dataframe\">\n",
       "  <thead>\n",
       "    <tr style=\"text-align: right;\">\n",
       "      <th></th>\n",
       "      <th>2023-06-09 16:14:39.745299</th>\n",
       "      <th>2023-06-09 17:14:39.745299</th>\n",
       "      <th>2023-06-09 18:14:39.745299</th>\n",
       "      <th>2023-06-09 19:14:39.745299</th>\n",
       "      <th>2023-06-09 20:14:39.745299</th>\n",
       "      <th>2023-06-09 21:14:39.745299</th>\n",
       "      <th>2023-06-09 22:14:39.745299</th>\n",
       "      <th>2023-06-09 23:14:39.745299</th>\n",
       "      <th>2023-06-10 00:14:39.745299</th>\n",
       "      <th>2023-06-10 01:14:39.745299</th>\n",
       "      <th>...</th>\n",
       "      <th>2023-06-16 06:14:39.745299</th>\n",
       "      <th>2023-06-16 07:14:39.745299</th>\n",
       "      <th>2023-06-16 08:14:39.745299</th>\n",
       "      <th>2023-06-16 09:14:39.745299</th>\n",
       "      <th>2023-06-16 10:14:39.745299</th>\n",
       "      <th>2023-06-16 11:14:39.745299</th>\n",
       "      <th>2023-06-16 12:14:39.745299</th>\n",
       "      <th>2023-06-16 13:14:39.745299</th>\n",
       "      <th>2023-06-16 14:14:39.745299</th>\n",
       "      <th>2023-06-16 15:14:39.745299</th>\n",
       "    </tr>\n",
       "  </thead>\n",
       "  <tbody>\n",
       "  </tbody>\n",
       "</table>\n",
       "<p>0 rows × 168 columns</p>\n",
       "</div>"
      ],
      "text/plain": [
       "Empty DataFrame\n",
       "Columns: [2023-06-09 16:14:39.745299, 2023-06-09 17:14:39.745299, 2023-06-09 18:14:39.745299, 2023-06-09 19:14:39.745299, 2023-06-09 20:14:39.745299, 2023-06-09 21:14:39.745299, 2023-06-09 22:14:39.745299, 2023-06-09 23:14:39.745299, 2023-06-10 00:14:39.745299, 2023-06-10 01:14:39.745299, 2023-06-10 02:14:39.745299, 2023-06-10 03:14:39.745299, 2023-06-10 04:14:39.745299, 2023-06-10 05:14:39.745299, 2023-06-10 06:14:39.745299, 2023-06-10 07:14:39.745299, 2023-06-10 08:14:39.745299, 2023-06-10 09:14:39.745299, 2023-06-10 10:14:39.745299, 2023-06-10 11:14:39.745299, 2023-06-10 12:14:39.745299, 2023-06-10 13:14:39.745299, 2023-06-10 14:14:39.745299, 2023-06-10 15:14:39.745299, 2023-06-10 16:14:39.745299, 2023-06-10 17:14:39.745299, 2023-06-10 18:14:39.745299, 2023-06-10 19:14:39.745299, 2023-06-10 20:14:39.745299, 2023-06-10 21:14:39.745299, 2023-06-10 22:14:39.745299, 2023-06-10 23:14:39.745299, 2023-06-11 00:14:39.745299, 2023-06-11 01:14:39.745299, 2023-06-11 02:14:39.745299, 2023-06-11 03:14:39.745299, 2023-06-11 04:14:39.745299, 2023-06-11 05:14:39.745299, 2023-06-11 06:14:39.745299, 2023-06-11 07:14:39.745299, 2023-06-11 08:14:39.745299, 2023-06-11 09:14:39.745299, 2023-06-11 10:14:39.745299, 2023-06-11 11:14:39.745299, 2023-06-11 12:14:39.745299, 2023-06-11 13:14:39.745299, 2023-06-11 14:14:39.745299, 2023-06-11 15:14:39.745299, 2023-06-11 16:14:39.745299, 2023-06-11 17:14:39.745299, 2023-06-11 18:14:39.745299, 2023-06-11 19:14:39.745299, 2023-06-11 20:14:39.745299, 2023-06-11 21:14:39.745299, 2023-06-11 22:14:39.745299, 2023-06-11 23:14:39.745299, 2023-06-12 00:14:39.745299, 2023-06-12 01:14:39.745299, 2023-06-12 02:14:39.745299, 2023-06-12 03:14:39.745299, 2023-06-12 04:14:39.745299, 2023-06-12 05:14:39.745299, 2023-06-12 06:14:39.745299, 2023-06-12 07:14:39.745299, 2023-06-12 08:14:39.745299, 2023-06-12 09:14:39.745299, 2023-06-12 10:14:39.745299, 2023-06-12 11:14:39.745299, 2023-06-12 12:14:39.745299, 2023-06-12 13:14:39.745299, 2023-06-12 14:14:39.745299, 2023-06-12 15:14:39.745299, 2023-06-12 16:14:39.745299, 2023-06-12 17:14:39.745299, 2023-06-12 18:14:39.745299, 2023-06-12 19:14:39.745299, 2023-06-12 20:14:39.745299, 2023-06-12 21:14:39.745299, 2023-06-12 22:14:39.745299, 2023-06-12 23:14:39.745299, 2023-06-13 00:14:39.745299, 2023-06-13 01:14:39.745299, 2023-06-13 02:14:39.745299, 2023-06-13 03:14:39.745299, 2023-06-13 04:14:39.745299, 2023-06-13 05:14:39.745299, 2023-06-13 06:14:39.745299, 2023-06-13 07:14:39.745299, 2023-06-13 08:14:39.745299, 2023-06-13 09:14:39.745299, 2023-06-13 10:14:39.745299, 2023-06-13 11:14:39.745299, 2023-06-13 12:14:39.745299, 2023-06-13 13:14:39.745299, 2023-06-13 14:14:39.745299, 2023-06-13 15:14:39.745299, 2023-06-13 16:14:39.745299, 2023-06-13 17:14:39.745299, 2023-06-13 18:14:39.745299, 2023-06-13 19:14:39.745299, ...]\n",
       "Index: []\n",
       "\n",
       "[0 rows x 168 columns]"
      ]
     },
     "execution_count": 1,
     "metadata": {},
     "output_type": "execute_result"
    }
   ],
   "source": [
    "from datetime import datetime, timedelta\n",
    "import pandas as pd\n",
    "\n",
    "# Let's assume the charging starts now\n",
    "charging_start_time = datetime.now()\n",
    "\n",
    "# Create the DataFrame\n",
    "unschedule_statistic_count = pd.DataFrame([], columns=[charging_start_time + timedelta(hours=hour) for hour in range(0, 7*24)])\n",
    "\n",
    "# Now the DataFrame 'unschedule_statistic_count' has 7*24 columns, each representing an hour of the week\n",
    "print(unschedule_statistic_count)"
   ]
  },
  {
   "cell_type": "markdown",
   "metadata": {},
   "source": []
  },
  {
   "cell_type": "code",
   "execution_count": 7,
   "metadata": {},
   "outputs": [
    {
     "data": {
      "text/plain": [
       "0    10\n",
       "Name: total, dtype: int64"
      ]
     },
     "execution_count": 7,
     "metadata": {},
     "output_type": "execute_result"
    }
   ],
   "source": [
    "from datetime import datetime, timedelta\n",
    "import pandas as pd\n",
    "\n",
    "# Given data structures\n",
    "electricity_price = {\n",
    "    1: [1.2]*24,  # just as an example, you would have actual hourly prices\n",
    "    2: [1.3]*24,\n",
    "    3: [1.4]*24,\n",
    "    4: [1.5]*24,\n",
    "    5: [1.6]*24,\n",
    "    6: [1.7]*24,\n",
    "    7: [1.8]*24,\n",
    "}\n",
    "\n",
    "testing_start_time = datetime(2023, 6, 1) \n",
    "info = pd.DataFrame({\n",
    "    \"datetime\": [datetime(2023, 6, 1) + timedelta(hours=i) for i in range(7*24)],\n",
    "    \"total\": [10]*7*24,  # just as an example, you would have actual hourly totals\n",
    "})\n",
    "\n",
    "info[info[\"datetime\"] == testing_start_time][\"total\"].values[0]"
   ]
  },
  {
   "cell_type": "code",
   "execution_count": 38,
   "metadata": {},
   "outputs": [
    {
     "name": "stdout",
     "output_type": "stream",
     "text": [
      "4\n",
      "5\n",
      "6\n",
      "7\n",
      "1\n",
      "2\n",
      "3\n",
      "2520.0\n"
     ]
    }
   ],
   "source": [
    "from datetime import datetime, timedelta\n",
    "import pandas as pd\n",
    "\n",
    "# Given data structures\n",
    "electricity_price = {\n",
    "    1: [1.2]*24,  # just as an example, you would have actual hourly prices\n",
    "    2: [1.3]*24,\n",
    "    3: [1.4]*24,\n",
    "    4: [1.5]*24,\n",
    "    5: [1.6]*24,\n",
    "    6: [1.7]*24,\n",
    "    7: [1.8]*24,\n",
    "}\n",
    "\n",
    "info = pd.DataFrame({\n",
    "    \"datetime\": [datetime(2023, 6, 1) + timedelta(hours=i) for i in range(7*24)],\n",
    "    \"total\": [10]*7*24,  # just as an example, you would have actual hourly totals\n",
    "})\n",
    "\n",
    "# The actual code\n",
    "current_tariff = 0\n",
    "testing_start_time = datetime(2023, 6, 1)  # assuming this as starting datetime\n",
    "\n",
    "for day in range(1, 8):\n",
    "    weekday = testing_start_time.isoweekday()\n",
    "    print(weekday)\n",
    "    for hour in range(24):\n",
    "        current_tariff += electricity_price[weekday][hour] * (info[info[\"datetime\"] == testing_start_time][\"total\"].values[0])\n",
    "        testing_start_time += timedelta(hours=1)\n",
    "\n",
    "print(current_tariff)\n"
   ]
  },
  {
   "cell_type": "code",
   "execution_count": 23,
   "metadata": {},
   "outputs": [
    {
     "name": "stdout",
     "output_type": "stream",
     "text": [
      "40\n",
      "2\n",
      "2\n",
      "0\n",
      "40\n"
     ]
    }
   ],
   "source": [
    "import pandas as pd\n",
    "\n",
    "# Let's assume this is your data\n",
    "info = pd.DataFrame({\n",
    "    \"total\": [50, 60, 70, 80, 90, 100, 110, 120, 130, 140, 150]  # total power load or demand\n",
    "})\n",
    "\n",
    "contract_capacity = 100  # contract capacity\n",
    "capacity_price = 10  # the price per unit capacity\n",
    "\n",
    "# The actual code\n",
    "overload_penalty = 0\n",
    "overload = info[\"total\"].max()\n",
    "overload = 102\n",
    "\n",
    "if max(overload, contract_capacity) != contract_capacity:\n",
    "    overload -= contract_capacity\n",
    "    overload_penalty += min(overload, contract_capacity * 0.1) * capacity_price * 2  # 10% below part\n",
    "    print(overload_penalty)\n",
    "    print(min(overload, contract_capacity * 0.1))\n",
    "    print(overload)\n",
    "    overload -= min(overload, contract_capacity * 0.1)\n",
    "    print(overload)\n",
    "    overload_penalty += overload * capacity_price * 3  # 10% above part\n",
    "    print(overload_penalty)\n",
    "\n",
    "\n",
    "\n"
   ]
  }
 ],
 "metadata": {
  "kernelspec": {
   "display_name": "Python 3",
   "language": "python",
   "name": "python3"
  },
  "language_info": {
   "codemirror_mode": {
    "name": "ipython",
    "version": 3
   },
   "file_extension": ".py",
   "mimetype": "text/x-python",
   "name": "python",
   "nbconvert_exporter": "python",
   "pygments_lexer": "ipython3",
   "version": "3.11.3"
  },
  "orig_nbformat": 4
 },
 "nbformat": 4,
 "nbformat_minor": 2
}
